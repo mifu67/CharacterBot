{
 "cells": [
  {
   "cell_type": "code",
   "execution_count": 1,
   "metadata": {},
   "outputs": [],
   "source": [
    "%load_ext autoreload\n",
    "%autoreload 2"
   ]
  },
  {
   "cell_type": "code",
   "execution_count": 3,
   "metadata": {},
   "outputs": [
    {
     "name": "stdout",
     "output_type": "stream",
     "text": [
      "1102\n"
     ]
    }
   ],
   "source": [
    "import json\n",
    "EXPERIENCE_PATH = './trainingdata/hansolo/young-han.json'\n",
    "EXPERIENCE_OLD_PATH = './trainingdata/hansolo/han.json'\n",
    "PROTECTED_PATH = './trainingdata/hansolo/han-protective.json'\n",
    "\n",
    "han_exps = ['./trainingdata/hansolo/young-han.json', './trainingdata/hansolo/han.json', './trainingdata/hansolo/old-han.json']\n",
    "han_protected = ['./trainingdata/hansolo/old-han-protective.json']\n",
    "\n",
    "new_data = []\n",
    "\n",
    "# loop thru the original jsons\n",
    "# for each object present, do the following:\n",
    "# 1. create an empty dict\n",
    "# 2. add the key \"text\"\n",
    "\n",
    "for path in (han_exps + han_protected):\n",
    "    with open(path, 'r') as f:\n",
    "        exp = json.load(f)\n",
    "        for obj in exp:\n",
    "            #print(obj)\n",
    "            temp = {'text': []}\n",
    "            temp['text'].append('<instruction>')\n",
    "            temp['text'].append(obj['instruction'])\n",
    "            temp['text'].append('<input>')\n",
    "            temp['text'].append(obj['input'])\n",
    "            temp['text'].append('<output>')\n",
    "            temp['text'].append(obj['output'])\n",
    "            temp['text'] = ' '.join(temp['text'])\n",
    "            new_data.append(temp)\n",
    "        f.close()\n",
    "\n",
    "print(len(new_data))\n",
    "# with open(EXPERIENCE_PATH, 'r') as f:\n",
    "#     exp = json.load(f)\n",
    "#     for obj in exp:\n",
    "#         #print(obj)\n",
    "#         temp = {'text': []}\n",
    "#         temp['text'].append('<instruction>')\n",
    "#         temp['text'].append(obj['instruction'])\n",
    "#         temp['text'].append('<input>')\n",
    "#         temp['text'].append(obj['input'])\n",
    "#         temp['text'].append('<output>')\n",
    "#         temp['text'].append(obj['output'])\n",
    "#         temp['text'] = ' '.join(temp['text'])\n",
    "#         new_data.append(temp)\n",
    "#     f.close()\n",
    "# print(len(new_data))\n",
    "\n",
    "# with open(EXPERIENCE_OLD_PATH, 'r') as f:\n",
    "#     exp = json.load(f)\n",
    "#     for obj in exp:\n",
    "#         #print(obj)\n",
    "#         temp = {'text': []}\n",
    "#         temp['text'].append('<instruction>')\n",
    "#         temp['text'].append(obj['instruction'])\n",
    "#         temp['text'].append('<input>')\n",
    "#         temp['text'].append(obj['input'])\n",
    "#         temp['text'].append('<output>')\n",
    "#         temp['text'].append(obj['output'])\n",
    "#         temp['text'] = ' '.join(temp['text'])\n",
    "#         new_data.append(temp)\n",
    "#     f.close()\n",
    "# print(len(new_data))\n",
    "# with open(PROTECTED_PATH, 'r') as f:\n",
    "#     exp = json.load(f)\n",
    "#     for obj in exp:\n",
    "#         #print(obj)\n",
    "#         temp = {'text': []}\n",
    "#         temp['text'].append('<instruction>')\n",
    "#         temp['text'].append(obj['instruction'])\n",
    "#         temp['text'].append('<input>')\n",
    "#         temp['text'].append(obj['input'])\n",
    "#         temp['text'].append('<output>')\n",
    "#         temp['text'].append(obj['output'])\n",
    "#         temp['text'] = ' '.join(temp['text'])\n",
    "#         new_data.append(temp)\n",
    "#     f.close()\n",
    "# print(len(new_data))\n",
    "with open('./trainingdata/hansolo/old-han-data.jsonl', 'w') as f:\n",
    "    for entry in new_data:\n",
    "        json.dump(entry, f)\n",
    "        f.write('\\n')\n",
    "    # json.dump(new_experience, f)\n",
    "    f.close()\n"
   ]
  },
  {
   "cell_type": "code",
   "execution_count": 1,
   "metadata": {},
   "outputs": [
    {
     "name": "stdout",
     "output_type": "stream",
     "text": [
      "115 models available\n"
     ]
    }
   ],
   "source": [
    "import torch\n",
    "import torch.nn as nn\n",
    "import torch.nn.functional as F\n",
    "import json\n",
    "import together\n",
    "from apikey import TOG_KEY\n",
    "\n",
    "OLD_HAN_PATH = './trainingdata/hansolo/old-han-data.jsonl'\n",
    "# PROTECTED_PATH = './trainingdata/hansolo/young-han-protective-new.jsonl'\n",
    "\n",
    "together.api_key = TOG_KEY\n",
    "\n",
    "model_list = together.Models.list()\n",
    "\n",
    "print(f\"{len(model_list)} models available\")\n",
    "\n",
    "# print the first 10 models on the menu\n",
    "# model_names = [model_dict['name'] for model_dict in model_list]\n",
    "# print(model_names[:10])"
   ]
  },
  {
   "cell_type": "code",
   "execution_count": 5,
   "metadata": {},
   "outputs": [
    {
     "name": "stderr",
     "output_type": "stream",
     "text": [
      "Uploading ./trainingdata/hansolo/old-han-data.jsonl: 100%|██████████| 2.79M/2.79M [00:00<00:00, 3.09MB/s]\n"
     ]
    }
   ],
   "source": [
    "resp = together.Files.upload(file=OLD_HAN_PATH)\n",
    "file_id = resp[\"id\"]"
   ]
  },
  {
   "cell_type": "code",
   "execution_count": 8,
   "metadata": {},
   "outputs": [
    {
     "data": {
      "text/plain": [
       "[{'filename': 'young-han-data-new.jsonl',\n",
       "  'bytes': 948468,\n",
       "  'created_at': 1700686846,\n",
       "  'id': 'file-10d2233d-0f67-4457-9baa-59ef5c874dac',\n",
       "  'purpose': 'fine-tune',\n",
       "  'object': 'file',\n",
       "  'LineCount': 0,\n",
       "  'Processed': True},\n",
       " {'filename': 'han-data.jsonl',\n",
       "  'bytes': 2208884,\n",
       "  'created_at': 1700805318,\n",
       "  'id': 'file-5350fa6b-2ad1-4a4d-8717-fcb1522be037',\n",
       "  'purpose': 'fine-tune',\n",
       "  'object': 'file',\n",
       "  'LineCount': 0,\n",
       "  'Processed': True},\n",
       " {'filename': 'old-han-data.jsonl',\n",
       "  'bytes': 2920963,\n",
       "  'created_at': 1700949437,\n",
       "  'id': 'file-04c71832-ca56-45de-81af-483b42b70b7b',\n",
       "  'purpose': 'fine-tune',\n",
       "  'object': 'file',\n",
       "  'LineCount': 0,\n",
       "  'Processed': True}]"
      ]
     },
     "execution_count": 8,
     "metadata": {},
     "output_type": "execute_result"
    }
   ],
   "source": [
    "files_list = together.Files.list()\n",
    "files_list['data']"
   ]
  },
  {
   "cell_type": "code",
   "execution_count": 10,
   "metadata": {},
   "outputs": [
    {
     "data": {
      "text/plain": [
       "{'id': 'file-bb280f38-2b64-42a9-9349-6e7eb2ad2d05',\n",
       " 'object': 'file',\n",
       " 'deleted': 'true'}"
      ]
     },
     "execution_count": 10,
     "metadata": {},
     "output_type": "execute_result"
    }
   ],
   "source": [
    "together.Files.delete('file-bb280f38-2b64-42a9-9349-6e7eb2ad2d05')"
   ]
  },
  {
   "cell_type": "code",
   "execution_count": 2,
   "metadata": {},
   "outputs": [
    {
     "name": "stdout",
     "output_type": "stream",
     "text": [
      "{'training_file': 'file-5350fa6b-2ad1-4a4d-8717-fcb1522be037', 'validation_file': '', 'model_output_name': 'mifu67@stanford.edu/llama-2-7b-chat-middle-han-10--1e-05-2023-11-29-03-08-42', 'model_output_path': 's3://together-dev/finetune/6552b4a556bb2d3952ed7a14/mifu67@stanford.edu/llama-2-7b-chat-middle-han-10--1e-05-2023-11-29-03-08-42/ft-33d67b6b-7bb0-4840-8bce-27ebd5169593', 'Suffix': 'middle-han-10--1e-05', 'model': 'togethercomputer/llama-2-7b-chat', 'n_epochs': 10, 'n_checkpoints': 1, 'batch_size': 4, 'learning_rate': 1e-05, 'user_id': '6552b4a556bb2d3952ed7a14', 'lora': False, 'lora_r': 8, 'lora_alpha': 8, 'lora_dropout': 0, 'staring_epoch': 0, 'training_offset': 0, 'checkspoint_path': '', 'random_seed': '', 'created_at': '2023-11-29T03:08:42.709Z', 'updated_at': '2023-11-29T03:08:42.709Z', 'status': 'pending', 'owner_address': '0xebd597774b313d8e8d22af4629b75ec7d567f678', 'id': 'ft-33d67b6b-7bb0-4840-8bce-27ebd5169593', 'job_id': '', 'token_count': 0, 'param_count': 0, 'total_price': 0, 'epochs_completed': 0, 'events': [{'object': 'fine-tune-event', 'created_at': '2023-11-29T03:08:42.709Z', 'level': '', 'message': 'Fine tune request created', 'type': 'JOB_PENDING', 'param_count': 0, 'token_count': 0, 'wandb_url': '', 'checkpoint_path': '', 'model_path': '', 'training_offset': 0, 'hash': ''}], 'queue_depth': 0, 'wandb_key': '', 'wandb_project_name': '', 'wandb_url': '', 'enable_checkpoints': False, 'internal_flags': ''}\n"
     ]
    }
   ],
   "source": [
    "n_ep = 10\n",
    "lr = 1e-5\n",
    "\n",
    "resp = together.Finetune.create(\n",
    "  training_file = 'file-5350fa6b-2ad1-4a4d-8717-fcb1522be037',\n",
    "  model = 'togethercomputer/llama-2-7b-chat',\n",
    "  n_epochs = n_ep,\n",
    "  n_checkpoints = 1,\n",
    "  batch_size = 4,\n",
    "  learning_rate = lr,\n",
    "  suffix = f'middle-han-{n_ep}--{lr}',\n",
    ")\n",
    "\n",
    "fine_tune_id = resp['id']\n",
    "print(resp)"
   ]
  },
  {
   "cell_type": "code",
   "execution_count": 13,
   "metadata": {},
   "outputs": [
    {
     "data": {
      "text/plain": [
       "'running'"
      ]
     },
     "execution_count": 13,
     "metadata": {},
     "output_type": "execute_result"
    }
   ],
   "source": [
    "resp = together.Finetune.list()\n",
    "resp['data'][-1]['status']\n",
    "# print(len(resp['data']))\n",
    "# print(resp['data'][3]['id'])\n",
    "# resp['data'][4]['status'] "
   ]
  },
  {
   "cell_type": "code",
   "execution_count": 9,
   "metadata": {},
   "outputs": [
    {
     "data": {
      "text/plain": [
       "{'success': True,\n",
       " 'value': '0e035b5570a658377cfb7f6e1a0d552d13b8a43816ad7982a35bd1850945c25e-3bccaa2635905e7f27bdd3e4fb99a2261991260281bbc797c56bb08bb3312239',\n",
       " 'wasAlreadyEnabled': True}"
      ]
     },
     "execution_count": 9,
     "metadata": {},
     "output_type": "execute_result"
    }
   ],
   "source": [
    "together.Models.start('mifu67@stanford.edu/llama-2-7b-chat-old-han-first-5--1e-05-2023-11-25-21-58-35')"
   ]
  },
  {
   "cell_type": "code",
   "execution_count": 10,
   "metadata": {},
   "outputs": [],
   "source": [
    "output = together.Complete.create(\n",
    "  prompt = \"What are your thoughts on Count Dooku?\\n\\n1. \", \n",
    "  model = 'mifu67@stanford.edu/llama-2-7b-chat-old-han-first-5--1e-05-2023-11-25-21-58-35', \n",
    ")"
   ]
  },
  {
   "cell_type": "code",
   "execution_count": 11,
   "metadata": {},
   "outputs": [
    {
     "data": {
      "text/plain": [
       "{'status': 'finished',\n",
       " 'prompt': ['What are your thoughts on Count Dooku?\\n\\n1. '],\n",
       " 'model': 'mifu67@stanford.edu/llama-2-7b-chat-old-han-first-5--1e-05-2023-11-25-21-58-35',\n",
       " 'model_owner': '',\n",
       " 'tags': {},\n",
       " 'num_returns': 1,\n",
       " 'args': {'model': 'mifu67@stanford.edu/llama-2-7b-chat-old-han-first-5--1e-05-2023-11-25-21-58-35',\n",
       "  'prompt': 'What are your thoughts on Count Dooku?\\n\\n1. ',\n",
       "  'top_p': 0.7,\n",
       "  'top_k': 50,\n",
       "  'temperature': 0.7,\n",
       "  'max_tokens': 128,\n",
       "  'stop': [],\n",
       "  'repetition_penalty': None,\n",
       "  'logprobs': None},\n",
       " 'subjobs': [],\n",
       " 'output': {'choices': [{'text': \"He's a compelling character with a complex history.\\n2.  He's a formidable Force-sensitive warrior.\\n3.  His fall to the dark side is a tragic reminder of the dangers of ambition.\\n4.  His relationship with Qui-Gon Jinn is fascinating and raises questions about loyalty and betrayal.\\n5.  His duel with Obi-Wan Kenobi on Mustafar is a thrilling display of lightsaber combat.\\n6.  His capture and torture at the hands of Dar\"}],\n",
       "  'request_id': '82bd4cfd8be4643e-SJC'}}"
      ]
     },
     "execution_count": 11,
     "metadata": {},
     "output_type": "execute_result"
    }
   ],
   "source": [
    "output"
   ]
  }
 ],
 "metadata": {
  "kernelspec": {
   "display_name": "Python 3",
   "language": "python",
   "name": "python3"
  },
  "language_info": {
   "codemirror_mode": {
    "name": "ipython",
    "version": 3
   },
   "file_extension": ".py",
   "mimetype": "text/x-python",
   "name": "python",
   "nbconvert_exporter": "python",
   "pygments_lexer": "ipython3",
   "version": "3.11.2"
  }
 },
 "nbformat": 4,
 "nbformat_minor": 2
}
