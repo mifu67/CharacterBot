{
 "cells": [
  {
   "cell_type": "code",
   "execution_count": 1,
   "metadata": {},
   "outputs": [],
   "source": [
    "%load_ext autoreload\n",
    "%autoreload 2"
   ]
  },
  {
   "cell_type": "code",
   "execution_count": 4,
   "metadata": {},
   "outputs": [
    {
     "name": "stdout",
     "output_type": "stream",
     "text": [
      "259\n",
      "259\n",
      "75\n",
      "334\n"
     ]
    }
   ],
   "source": [
    "import json\n",
    "EXPERIENCE_PATH = './trainingdata/hansolo/young-han.json'\n",
    "PROTECTED_PATH = './trainingdata/hansolo/young-han-protective.json'\n",
    "\n",
    "new_data = []\n",
    "\n",
    "# loop thru the original jsons\n",
    "# for each object present, do the following:\n",
    "# 1. create an empty dict\n",
    "# 2. add the key \"text\"\n",
    "\n",
    "with open(EXPERIENCE_PATH, 'r') as f:\n",
    "    exp = json.load(f)\n",
    "    print(len(exp))\n",
    "    for obj in exp:\n",
    "        #print(obj)\n",
    "        temp = {'text': []}\n",
    "        temp['text'].append('<instruction>')\n",
    "        temp['text'].append(obj['instruction'])\n",
    "        temp['text'].append('<input>')\n",
    "        temp['text'].append(obj['input'])\n",
    "        temp['text'].append('<output>')\n",
    "        temp['text'].append(obj['output'])\n",
    "        temp['text'] = ' '.join(temp['text'])\n",
    "        new_data.append(temp)\n",
    "    f.close()\n",
    "print(len(new_data))\n",
    "\n",
    "with open(PROTECTED_PATH, 'r') as f:\n",
    "    exp = json.load(f)\n",
    "    print(len(exp))\n",
    "    for obj in exp:\n",
    "        #print(obj)\n",
    "        temp = {'text': []}\n",
    "        temp['text'].append('<instruction>')\n",
    "        temp['text'].append(obj['instruction'])\n",
    "        temp['text'].append('<input>')\n",
    "        temp['text'].append(obj['input'])\n",
    "        temp['text'].append('<output>')\n",
    "        temp['text'].append(obj['output'])\n",
    "        temp['text'] = ' '.join(temp['text'])\n",
    "        new_data.append(temp)\n",
    "    f.close()\n",
    "print(len(new_data))\n",
    "with open('./trainingdata/hansolo/young-han-data-new.jsonl', 'w') as f:\n",
    "    for entry in new_data:\n",
    "        json.dump(entry, f)\n",
    "        f.write('\\n')\n",
    "    # json.dump(new_experience, f)\n",
    "    f.close()\n"
   ]
  },
  {
   "cell_type": "code",
   "execution_count": 5,
   "metadata": {},
   "outputs": [
    {
     "name": "stdout",
     "output_type": "stream",
     "text": [
      "107 models available\n"
     ]
    }
   ],
   "source": [
    "import torch\n",
    "import torch.nn as nn\n",
    "import torch.nn.functional as F\n",
    "import json\n",
    "import together\n",
    "from apikey import KEY\n",
    "\n",
    "EXPERIENCE_PATH = './trainingdata/hansolo/young-han-data-new.jsonl'\n",
    "# PROTECTED_PATH = './trainingdata/hansolo/young-han-protective-new.jsonl'\n",
    "\n",
    "together.api_key = KEY\n",
    "\n",
    "model_list = together.Models.list()\n",
    "\n",
    "print(f\"{len(model_list)} models available\")\n",
    "\n",
    "# print the first 10 models on the menu\n",
    "# model_names = [model_dict['name'] for model_dict in model_list]\n",
    "# print(model_names[:10])"
   ]
  },
  {
   "cell_type": "code",
   "execution_count": 8,
   "metadata": {},
   "outputs": [
    {
     "name": "stderr",
     "output_type": "stream",
     "text": [
      "Uploading ./trainingdata/hansolo/young-han-data-new.jsonl: 100%|██████████| 926k/926k [00:00<00:00, 1.35MB/s]\n"
     ]
    }
   ],
   "source": [
    "resp = together.Files.upload(file=EXPERIENCE_PATH)\n",
    "file_id = resp[\"id\"]"
   ]
  },
  {
   "cell_type": "code",
   "execution_count": 11,
   "metadata": {},
   "outputs": [
    {
     "data": {
      "text/plain": [
       "[{'filename': 'young-han-data-new.jsonl',\n",
       "  'bytes': 948468,\n",
       "  'created_at': 1700686846,\n",
       "  'id': 'file-10d2233d-0f67-4457-9baa-59ef5c874dac',\n",
       "  'purpose': 'fine-tune',\n",
       "  'object': 'file',\n",
       "  'LineCount': 0,\n",
       "  'Processed': True}]"
      ]
     },
     "execution_count": 11,
     "metadata": {},
     "output_type": "execute_result"
    }
   ],
   "source": [
    "files_list = together.Files.list()\n",
    "files_list['data']"
   ]
  },
  {
   "cell_type": "code",
   "execution_count": 10,
   "metadata": {},
   "outputs": [
    {
     "data": {
      "text/plain": [
       "{'id': 'file-bb280f38-2b64-42a9-9349-6e7eb2ad2d05',\n",
       " 'object': 'file',\n",
       " 'deleted': 'true'}"
      ]
     },
     "execution_count": 10,
     "metadata": {},
     "output_type": "execute_result"
    }
   ],
   "source": [
    "together.Files.delete('file-bb280f38-2b64-42a9-9349-6e7eb2ad2d05')"
   ]
  },
  {
   "cell_type": "code",
   "execution_count": 14,
   "metadata": {},
   "outputs": [
    {
     "name": "stdout",
     "output_type": "stream",
     "text": [
      "{'training_file': 'file-10d2233d-0f67-4457-9baa-59ef5c874dac', 'validation_file': '', 'model_output_name': 'mifu67@stanford.edu/llama-2-7b-chat-young-han-new-data-6--1e-05-2023-11-22-21-56-35', 'model_output_path': 's3://together-dev/finetune/6552b4a556bb2d3952ed7a14/mifu67@stanford.edu/llama-2-7b-chat-young-han-new-data-6--1e-05-2023-11-22-21-56-35/ft-4dd9ec0a-d19e-4bf6-bf44-f360b14cee1c', 'Suffix': 'young-han-new-data-6--1e-05', 'model': 'togethercomputer/llama-2-7b-chat', 'n_epochs': 6, 'n_checkpoints': 1, 'batch_size': 4, 'learning_rate': 1e-05, 'user_id': '6552b4a556bb2d3952ed7a14', 'lora': False, 'lora_r': 8, 'lora_alpha': 8, 'lora_dropout': 0, 'staring_epoch': 0, 'training_offset': 0, 'checkspoint_path': '', 'random_seed': '', 'created_at': '2023-11-22T21:56:35.911Z', 'updated_at': '2023-11-22T21:56:35.911Z', 'status': 'pending', 'owner_address': '0xebd597774b313d8e8d22af4629b75ec7d567f678', 'id': 'ft-4dd9ec0a-d19e-4bf6-bf44-f360b14cee1c', 'job_id': '', 'token_count': 0, 'param_count': 0, 'total_price': 0, 'epochs_completed': 0, 'events': [{'object': 'fine-tune-event', 'created_at': '2023-11-22T21:56:35.911Z', 'level': '', 'message': 'Fine tune request created', 'type': 'JOB_PENDING', 'param_count': 0, 'token_count': 0, 'wandb_url': '', 'checkpoint_path': '', 'model_path': '', 'training_offset': 0, 'hash': ''}], 'queue_depth': 0, 'wandb_key': '', 'wandb_project_name': '', 'wandb_url': '', 'enable_checkpoints': False, 'internal_flags': ''}\n"
     ]
    }
   ],
   "source": [
    "n_ep = 6\n",
    "lr = 1e-5\n",
    "\n",
    "resp = together.Finetune.create(\n",
    "  training_file = 'file-10d2233d-0f67-4457-9baa-59ef5c874dac',\n",
    "  model = 'togethercomputer/llama-2-7b-chat',\n",
    "  n_epochs = n_ep,\n",
    "  n_checkpoints = 1,\n",
    "  batch_size = 4,\n",
    "  learning_rate = lr,\n",
    "  suffix = f'young-han-new-data-{n_ep}--{lr}',\n",
    ")\n",
    "\n",
    "fine_tune_id = resp['id']\n",
    "print(resp)"
   ]
  },
  {
   "cell_type": "code",
   "execution_count": 13,
   "metadata": {},
   "outputs": [
    {
     "data": {
      "text/plain": [
       "'queued'"
      ]
     },
     "execution_count": 13,
     "metadata": {},
     "output_type": "execute_result"
    }
   ],
   "source": [
    "resp = together.Finetune.list()\n",
    "resp['data'][-1]['status']\n",
    "# print(len(resp['data']))\n",
    "# print(resp['data'][3]['id'])\n",
    "# resp['data'][4]['status'] "
   ]
  },
  {
   "cell_type": "code",
   "execution_count": 13,
   "metadata": {},
   "outputs": [
    {
     "data": {
      "text/plain": [
       "{'success': True,\n",
       " 'value': '4e32ecb6957facee7bdb68237575eda13590c5ac55a669cea78dbc4a56d583d9-51a09629248aaf3729e00e43e6c0d2554f542a5329a86f366bac2fc4e71205f0',\n",
       " 'wasAlreadyEnabled': True}"
      ]
     },
     "execution_count": 13,
     "metadata": {},
     "output_type": "execute_result"
    }
   ],
   "source": [
    "together.Models.start(\"mifu67@stanford.edu/llama-2-7b-chat-my-demo-finetune-2023-11-17-20-51-22\")"
   ]
  },
  {
   "cell_type": "code",
   "execution_count": 17,
   "metadata": {},
   "outputs": [],
   "source": [
    "output = together.Complete.create(\n",
    "  prompt = \"What are your thoughts on Count Dooku?\\n\\n1. \", \n",
    "  model = \"mifu67@stanford.edu/llama-2-7b-chat-my-demo-finetune-2023-11-17-20-51-22\", \n",
    ")"
   ]
  },
  {
   "cell_type": "code",
   "execution_count": 18,
   "metadata": {},
   "outputs": [
    {
     "data": {
      "text/plain": [
       "{'status': 'finished',\n",
       " 'prompt': ['What are your thoughts on Count Dooku?\\n\\n1. '],\n",
       " 'model': 'mifu67@stanford.edu/llama-2-7b-chat-my-demo-finetune-2023-11-17-20-51-22',\n",
       " 'model_owner': '',\n",
       " 'tags': {},\n",
       " 'num_returns': 1,\n",
       " 'args': {'model': 'mifu67@stanford.edu/llama-2-7b-chat-my-demo-finetune-2023-11-17-20-51-22',\n",
       "  'prompt': 'What are your thoughts on Count Dooku?\\n\\n1. ',\n",
       "  'top_p': 0.7,\n",
       "  'top_k': 50,\n",
       "  'temperature': 0.7,\n",
       "  'max_tokens': 128,\n",
       "  'stop': [],\n",
       "  'repetition_penalty': None,\n",
       "  'logprobs': None},\n",
       " 'subjobs': [],\n",
       " 'output': {'choices': [{'text': 'He is a compelling and complex character.\\n2.  He is a formidable warrior and strategist.\\n3.  He has a tragic backstory that adds depth to his character.\\n4.  He is a loyal servant of the Sith, but also has his own motivations and desires.\\n5.  He is a skilled duelist, able to hold his own against even the most powerful opponents.\\n6.  He has a distinctive and intimidating appearance, with his red lightsaber and mask.\\n7.  He is a master of'}],\n",
       "  'request_id': '827afaf9ac5ff963-SJC'}}"
      ]
     },
     "execution_count": 18,
     "metadata": {},
     "output_type": "execute_result"
    }
   ],
   "source": [
    "output"
   ]
  }
 ],
 "metadata": {
  "kernelspec": {
   "display_name": "Python 3",
   "language": "python",
   "name": "python3"
  },
  "language_info": {
   "codemirror_mode": {
    "name": "ipython",
    "version": 3
   },
   "file_extension": ".py",
   "mimetype": "text/x-python",
   "name": "python",
   "nbconvert_exporter": "python",
   "pygments_lexer": "ipython3",
   "version": "3.11.2"
  }
 },
 "nbformat": 4,
 "nbformat_minor": 2
}
