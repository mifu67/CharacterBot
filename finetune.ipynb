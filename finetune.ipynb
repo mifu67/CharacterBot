{
 "cells": [
  {
   "cell_type": "code",
   "execution_count": 1,
   "metadata": {},
   "outputs": [],
   "source": [
    "%load_ext autoreload\n",
    "%autoreload 2"
   ]
  },
  {
   "cell_type": "code",
   "execution_count": 24,
   "metadata": {},
   "outputs": [],
   "source": [
    "import json\n",
    "EXPERIENCE_PATH = './trainingdata/hansolo/young-han.json'\n",
    "PROTECTED_PATH = './trainingdata/hansolo/young-han-protective.json'\n",
    "\n",
    "new_experience = []\n",
    "new_protected = []\n",
    "\n",
    "# loop thru the original jsons\n",
    "# for each object present, do the following:\n",
    "# 1. create an empty dict\n",
    "# 2. add the key \"text\"\n",
    "\n",
    "# with open(EXPERIENCE_PATH, 'r') as f:\n",
    "#     exp = json.load(f)\n",
    "#     for obj in exp:\n",
    "#         #print(obj)\n",
    "#         temp = {'text': []}\n",
    "#         temp['text'].append('<instruction>')\n",
    "#         temp['text'].append(obj['instruction'])\n",
    "#         temp['text'].append('<input>')\n",
    "#         temp['text'].append(obj['input'])\n",
    "#         temp['text'].append('<output>')\n",
    "#         temp['text'].append(obj['output'])\n",
    "#         temp['text'] = ' '.join(temp['text'])\n",
    "#         new_experience.append(temp)\n",
    "#     f.close()\n",
    "# print(len(new_experience))\n",
    "# # create a json file with the new experience\n",
    "# with open('./trainingdata/hansolo/young-han-new.jsonl', 'w') as f:\n",
    "#     for entry in new_experience:\n",
    "#         json.dump(entry, f)\n",
    "#         f.write('\\n')\n",
    "#     # json.dump(new_experience, f)\n",
    "#     f.close()\n",
    "\n",
    "with open(PROTECTED_PATH, 'r') as f:\n",
    "    exp = json.load(f)\n",
    "    for obj in exp:\n",
    "        #print(obj)\n",
    "        temp = {'text': []}\n",
    "        temp['text'].append('<instruction>')\n",
    "        temp['text'].append(obj['instruction'])\n",
    "        temp['text'].append('<input>')\n",
    "        temp['text'].append(obj['input'])\n",
    "        temp['text'].append('<output>')\n",
    "        temp['text'].append(obj['output'])\n",
    "        temp['text'] = ' '.join(temp['text'])\n",
    "        new_protected.append(temp)\n",
    "    f.close()\n",
    "\n",
    "with open('./trainingdata/hansolo/young-han-protective-new.jsonl', 'w') as f:\n",
    "    for entry in new_protected:\n",
    "        json.dump(entry, f)\n",
    "        f.write('\\n')\n",
    "    # json.dump(new_experience, f)\n",
    "    f.close()\n"
   ]
  },
  {
   "cell_type": "code",
   "execution_count": 37,
   "metadata": {},
   "outputs": [
    {
     "name": "stdout",
     "output_type": "stream",
     "text": [
      "103 models available\n"
     ]
    }
   ],
   "source": [
    "import torch\n",
    "import torch.nn as nn\n",
    "import torch.nn.functional as F\n",
    "import json\n",
    "import together\n",
    "from apikey import KEY\n",
    "\n",
    "EXPERIENCE_PATH = './trainingdata/hansolo/young-han-new.jsonl'\n",
    "# PROTECTED_PATH = './trainingdata/hansolo/young-han-protective-new.jsonl'\n",
    "\n",
    "together.api_key = KEY\n",
    "\n",
    "model_list = together.Models.list()\n",
    "\n",
    "print(f\"{len(model_list)} models available\")\n",
    "\n",
    "# print the first 10 models on the menu\n",
    "# model_names = [model_dict['name'] for model_dict in model_list]\n",
    "# print(model_names[:10])"
   ]
  },
  {
   "cell_type": "code",
   "execution_count": 38,
   "metadata": {},
   "outputs": [
    {
     "name": "stderr",
     "output_type": "stream",
     "text": [
      "Uploading ./trainingdata/hansolo/young-han-new.jsonl: 100%|██████████| 781k/781k [00:00<00:00, 1.92MB/s]\n"
     ]
    }
   ],
   "source": [
    "resp = together.Files.upload(file=EXPERIENCE_PATH)\n",
    "file_id = resp[\"id\"]"
   ]
  },
  {
   "cell_type": "code",
   "execution_count": 39,
   "metadata": {},
   "outputs": [
    {
     "data": {
      "text/plain": [
       "[{'filename': 'young-han-new.jsonl',\n",
       "  'bytes': 799730,\n",
       "  'created_at': 1699945068,\n",
       "  'id': 'file-bb280f38-2b64-42a9-9349-6e7eb2ad2d05',\n",
       "  'purpose': 'fine-tune',\n",
       "  'object': 'file',\n",
       "  'LineCount': 0,\n",
       "  'Processed': True}]"
      ]
     },
     "execution_count": 39,
     "metadata": {},
     "output_type": "execute_result"
    }
   ],
   "source": [
    "files_list = together.Files.list()\n",
    "files_list['data']"
   ]
  },
  {
   "cell_type": "code",
   "execution_count": 40,
   "metadata": {},
   "outputs": [
    {
     "name": "stdout",
     "output_type": "stream",
     "text": [
      "{'training_file': 'file-bb280f38-2b64-42a9-9349-6e7eb2ad2d05', 'validation_file': '', 'model_output_name': 'mifu67@stanford.edu/llama-2-70b-chat-my-demo-finetune-2023-11-14-07-01-04', 'model_output_path': 's3://together-dev/finetune/6552b4a556bb2d3952ed7a14/mifu67@stanford.edu/llama-2-70b-chat-my-demo-finetune-2023-11-14-07-01-04/ft-3a9730a4-4fd6-4330-bb72-8327eede69b4', 'Suffix': 'my-demo-finetune', 'model': 'togethercomputer/llama-2-70b-chat', 'n_epochs': 3, 'n_checkpoints': 1, 'batch_size': 32, 'learning_rate': 1e-05, 'user_id': '6552b4a556bb2d3952ed7a14', 'lora': False, 'lora_r': 8, 'lora_alpha': 8, 'lora_dropout': 0, 'staring_epoch': 0, 'training_offset': 0, 'checkspoint_path': '', 'random_seed': '', 'created_at': '2023-11-14T07:01:04.613Z', 'updated_at': '2023-11-14T07:01:04.613Z', 'status': 'pending', 'owner_address': '0xebd597774b313d8e8d22af4629b75ec7d567f678', 'id': 'ft-3a9730a4-4fd6-4330-bb72-8327eede69b4', 'job_id': '', 'token_count': 0, 'param_count': 0, 'total_price': 0, 'epochs_completed': 0, 'events': [{'object': 'fine-tune-event', 'created_at': '2023-11-14T07:01:04.613Z', 'level': '', 'message': 'Fine tune request created', 'type': 'JOB_PENDING', 'param_count': 0, 'token_count': 0, 'wandb_url': '', 'checkpoint_path': '', 'model_path': '', 'training_offset': 0, 'hash': ''}], 'queue_depth': 0, 'wandb_key': 'c46310c4b3d6577c87b7a7a6fd823f9a2e44468385c131a4a241aef8204e73b1', 'wandb_project_name': '', 'wandb_url': '', 'enable_checkpoints': False, 'internal_flags': ''}\n"
     ]
    }
   ],
   "source": [
    "resp = together.Finetune.create(\n",
    "  training_file = 'file-bb280f38-2b64-42a9-9349-6e7eb2ad2d05',\n",
    "  model = 'togethercomputer/llama-2-70b-chat',\n",
    "  n_epochs = 3,\n",
    "  n_checkpoints = 1,\n",
    "  batch_size = 4,\n",
    "  learning_rate = 1e-5,\n",
    "  suffix = 'my-demo-finetune',\n",
    "  wandb_api_key = KEY,\n",
    ")\n",
    "\n",
    "fine_tune_id = resp['id']\n",
    "print(resp)"
   ]
  },
  {
   "cell_type": "code",
   "execution_count": 50,
   "metadata": {},
   "outputs": [
    {
     "name": "stdout",
     "output_type": "stream",
     "text": [
      "3\n"
     ]
    }
   ],
   "source": [
    "resp = together.Finetune.list()\n",
    "# resp['data'][0]\n",
    "print(len(resp['data']))"
   ]
  },
  {
   "cell_type": "code",
   "execution_count": 49,
   "metadata": {},
   "outputs": [
    {
     "data": {
      "text/plain": [
       "{'training_file': 'file-bb280f38-2b64-42a9-9349-6e7eb2ad2d05',\n",
       " 'validation_file': '',\n",
       " 'model_output_name': 'mifu67@stanford.edu/llama-2-70b-chat-my-demo-finetune-2023-11-14-07-01-04',\n",
       " 'model_output_path': 's3://together-dev/finetune/6552b4a556bb2d3952ed7a14/mifu67@stanford.edu/llama-2-70b-chat-my-demo-finetune-2023-11-14-07-01-04/ft-3a9730a4-4fd6-4330-bb72-8327eede69b4',\n",
       " 'Suffix': 'my-demo-finetune',\n",
       " 'model': 'togethercomputer/llama-2-70b-chat',\n",
       " 'n_epochs': 3,\n",
       " 'n_checkpoints': 1,\n",
       " 'batch_size': 32,\n",
       " 'learning_rate': 1e-05,\n",
       " 'user_id': '6552b4a556bb2d3952ed7a14',\n",
       " 'lora': False,\n",
       " 'lora_r': 8,\n",
       " 'lora_alpha': 8,\n",
       " 'lora_dropout': 0,\n",
       " 'staring_epoch': 0,\n",
       " 'training_offset': 0,\n",
       " 'checkspoint_path': '',\n",
       " 'random_seed': '',\n",
       " 'created_at': '2023-11-14T07:01:04.613Z',\n",
       " 'updated_at': '2023-11-14T07:11:27.86Z',\n",
       " 'status': 'cancel_requested',\n",
       " 'owner_address': '0xebd597774b313d8e8d22af4629b75ec7d567f678',\n",
       " 'id': 'ft-3a9730a4-4fd6-4330-bb72-8327eede69b4',\n",
       " 'job_id': '',\n",
       " 'token_count': 0,\n",
       " 'param_count': 0,\n",
       " 'total_price': 0,\n",
       " 'epochs_completed': 0,\n",
       " 'events': [{'object': 'fine-tune-event',\n",
       "   'created_at': '2023-11-14T07:01:04.613Z',\n",
       "   'level': '',\n",
       "   'message': 'Fine tune request created',\n",
       "   'type': 'JOB_PENDING',\n",
       "   'param_count': 0,\n",
       "   'token_count': 0,\n",
       "   'wandb_url': '',\n",
       "   'checkpoint_path': '',\n",
       "   'model_path': '',\n",
       "   'training_offset': 0,\n",
       "   'hash': ''}],\n",
       " 'queue_depth': 0,\n",
       " 'wandb_key': 'c46310c4b3d6577c87b7a7a6fd823f9a2e44468385c131a4a241aef8204e73b1',\n",
       " 'wandb_project_name': '',\n",
       " 'wandb_url': '',\n",
       " 'enable_checkpoints': False,\n",
       " 'internal_flags': ''}"
      ]
     },
     "execution_count": 49,
     "metadata": {},
     "output_type": "execute_result"
    }
   ],
   "source": [
    "together.Finetune.cancel('ft-3a9730a4-4fd6-4330-bb72-8327eede69b4')"
   ]
  }
 ],
 "metadata": {
  "kernelspec": {
   "display_name": "Python 3",
   "language": "python",
   "name": "python3"
  },
  "language_info": {
   "codemirror_mode": {
    "name": "ipython",
    "version": 3
   },
   "file_extension": ".py",
   "mimetype": "text/x-python",
   "name": "python",
   "nbconvert_exporter": "python",
   "pygments_lexer": "ipython3",
   "version": "3.11.2"
  }
 },
 "nbformat": 4,
 "nbformat_minor": 2
}
